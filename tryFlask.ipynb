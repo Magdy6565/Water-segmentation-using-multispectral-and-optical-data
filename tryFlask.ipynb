{
 "cells": [
  {
   "cell_type": "code",
   "execution_count": 15,
   "metadata": {},
   "outputs": [],
   "source": [
    "import keras"
   ]
  },
  {
   "cell_type": "code",
   "execution_count": 16,
   "metadata": {},
   "outputs": [
    {
     "name": "stdout",
     "output_type": "stream",
     "text": [
      "^C\n"
     ]
    },
    {
     "name": "stdout",
     "output_type": "stream",
     "text": [
      "Requirement already satisfied: Flask in c:\\users\\zedan net\\appdata\\local\\programs\\python\\python312\\lib\\site-packages (3.0.3)\n",
      "Requirement already satisfied: Werkzeug>=3.0.0 in c:\\users\\zedan net\\appdata\\local\\programs\\python\\python312\\lib\\site-packages (from Flask) (3.0.3)\n",
      "Requirement already satisfied: Jinja2>=3.1.2 in c:\\users\\zedan net\\appdata\\local\\programs\\python\\python312\\lib\\site-packages (from Flask) (3.1.2)\n",
      "Requirement already satisfied: itsdangerous>=2.1.2 in c:\\users\\zedan net\\appdata\\local\\programs\\python\\python312\\lib\\site-packages (from Flask) (2.2.0)\n",
      "Requirement already satisfied: click>=8.1.3 in c:\\users\\zedan net\\appdata\\local\\programs\\python\\python312\\lib\\site-packages (from Flask) (8.1.7)\n",
      "Requirement already satisfied: blinker>=1.6.2 in c:\\users\\zedan net\\appdata\\local\\programs\\python\\python312\\lib\\site-packages (from Flask) (1.8.2)\n",
      "Requirement already satisfied: colorama in c:\\users\\zedan net\\appdata\\roaming\\python\\python312\\site-packages (from click>=8.1.3->Flask) (0.4.6)\n",
      "Requirement already satisfied: MarkupSafe>=2.0 in c:\\users\\zedan net\\appdata\\local\\programs\\python\\python312\\lib\\site-packages (from Jinja2>=3.1.2->Flask) (2.1.3)\n"
     ]
    },
    {
     "name": "stderr",
     "output_type": "stream",
     "text": [
      "\n",
      "[notice] A new release of pip is available: 23.2.1 -> 24.2\n",
      "[notice] To update, run: python.exe -m pip install --upgrade pip\n"
     ]
    }
   ],
   "source": [
    "! pip install Flask"
   ]
  },
  {
   "cell_type": "code",
   "execution_count": 5,
   "metadata": {},
   "outputs": [
    {
     "name": "stdout",
     "output_type": "stream",
     "text": [
      "Requirement already satisfied: tensorflow in c:\\users\\zedan net\\appdata\\local\\programs\\python\\python312\\lib\\site-packages (2.17.0)\n",
      "Requirement already satisfied: tensorflow-intel==2.17.0 in c:\\users\\zedan net\\appdata\\local\\programs\\python\\python312\\lib\\site-packages (from tensorflow) (2.17.0)\n",
      "Requirement already satisfied: absl-py>=1.0.0 in c:\\users\\zedan net\\appdata\\local\\programs\\python\\python312\\lib\\site-packages (from tensorflow-intel==2.17.0->tensorflow) (2.1.0)\n",
      "Requirement already satisfied: astunparse>=1.6.0 in c:\\users\\zedan net\\appdata\\local\\programs\\python\\python312\\lib\\site-packages (from tensorflow-intel==2.17.0->tensorflow) (1.6.3)\n",
      "Requirement already satisfied: flatbuffers>=24.3.25 in c:\\users\\zedan net\\appdata\\local\\programs\\python\\python312\\lib\\site-packages (from tensorflow-intel==2.17.0->tensorflow) (24.3.25)\n",
      "Requirement already satisfied: gast!=0.5.0,!=0.5.1,!=0.5.2,>=0.2.1 in c:\\users\\zedan net\\appdata\\local\\programs\\python\\python312\\lib\\site-packages (from tensorflow-intel==2.17.0->tensorflow) (0.6.0)\n",
      "Requirement already satisfied: google-pasta>=0.1.1 in c:\\users\\zedan net\\appdata\\local\\programs\\python\\python312\\lib\\site-packages (from tensorflow-intel==2.17.0->tensorflow) (0.2.0)\n",
      "Requirement already satisfied: h5py>=3.10.0 in c:\\users\\zedan net\\appdata\\local\\programs\\python\\python312\\lib\\site-packages (from tensorflow-intel==2.17.0->tensorflow) (3.11.0)\n",
      "Requirement already satisfied: libclang>=13.0.0 in c:\\users\\zedan net\\appdata\\local\\programs\\python\\python312\\lib\\site-packages (from tensorflow-intel==2.17.0->tensorflow) (18.1.1)\n",
      "Requirement already satisfied: ml-dtypes<0.5.0,>=0.3.1 in c:\\users\\zedan net\\appdata\\local\\programs\\python\\python312\\lib\\site-packages (from tensorflow-intel==2.17.0->tensorflow) (0.4.0)\n",
      "Requirement already satisfied: opt-einsum>=2.3.2 in c:\\users\\zedan net\\appdata\\local\\programs\\python\\python312\\lib\\site-packages (from tensorflow-intel==2.17.0->tensorflow) (3.3.0)\n",
      "Requirement already satisfied: packaging in c:\\users\\zedan net\\appdata\\roaming\\python\\python312\\site-packages (from tensorflow-intel==2.17.0->tensorflow) (23.2)\n",
      "Requirement already satisfied: protobuf!=4.21.0,!=4.21.1,!=4.21.2,!=4.21.3,!=4.21.4,!=4.21.5,<5.0.0dev,>=3.20.3 in c:\\users\\zedan net\\appdata\\local\\programs\\python\\python312\\lib\\site-packages (from tensorflow-intel==2.17.0->tensorflow) (4.25.4)\n",
      "Requirement already satisfied: requests<3,>=2.21.0 in c:\\users\\zedan net\\appdata\\local\\programs\\python\\python312\\lib\\site-packages (from tensorflow-intel==2.17.0->tensorflow) (2.31.0)\n",
      "Requirement already satisfied: setuptools in c:\\users\\zedan net\\appdata\\local\\programs\\python\\python312\\lib\\site-packages (from tensorflow-intel==2.17.0->tensorflow) (72.2.0)\n",
      "Requirement already satisfied: six>=1.12.0 in c:\\users\\zedan net\\appdata\\local\\programs\\python\\python312\\lib\\site-packages (from tensorflow-intel==2.17.0->tensorflow) (1.16.0)\n",
      "Requirement already satisfied: termcolor>=1.1.0 in c:\\users\\zedan net\\appdata\\local\\programs\\python\\python312\\lib\\site-packages (from tensorflow-intel==2.17.0->tensorflow) (2.4.0)\n",
      "Requirement already satisfied: typing-extensions>=3.6.6 in c:\\users\\zedan net\\appdata\\local\\programs\\python\\python312\\lib\\site-packages (from tensorflow-intel==2.17.0->tensorflow) (4.10.0)\n",
      "Requirement already satisfied: wrapt>=1.11.0 in c:\\users\\zedan net\\appdata\\local\\programs\\python\\python312\\lib\\site-packages (from tensorflow-intel==2.17.0->tensorflow) (1.16.0)\n",
      "Requirement already satisfied: grpcio<2.0,>=1.24.3 in c:\\users\\zedan net\\appdata\\local\\programs\\python\\python312\\lib\\site-packages (from tensorflow-intel==2.17.0->tensorflow) (1.65.5)\n",
      "Requirement already satisfied: tensorboard<2.18,>=2.17 in c:\\users\\zedan net\\appdata\\local\\programs\\python\\python312\\lib\\site-packages (from tensorflow-intel==2.17.0->tensorflow) (2.17.1)\n",
      "Requirement already satisfied: keras>=3.2.0 in c:\\users\\zedan net\\appdata\\local\\programs\\python\\python312\\lib\\site-packages (from tensorflow-intel==2.17.0->tensorflow) (3.5.0)\n",
      "Requirement already satisfied: numpy<2.0.0,>=1.26.0 in c:\\users\\zedan net\\appdata\\local\\programs\\python\\python312\\lib\\site-packages (from tensorflow-intel==2.17.0->tensorflow) (1.26.1)\n",
      "Requirement already satisfied: wheel<1.0,>=0.23.0 in c:\\users\\zedan net\\appdata\\local\\programs\\python\\python312\\lib\\site-packages (from astunparse>=1.6.0->tensorflow-intel==2.17.0->tensorflow) (0.44.0)\n",
      "Requirement already satisfied: rich in c:\\users\\zedan net\\appdata\\local\\programs\\python\\python312\\lib\\site-packages (from keras>=3.2.0->tensorflow-intel==2.17.0->tensorflow) (13.7.1)\n",
      "Requirement already satisfied: namex in c:\\users\\zedan net\\appdata\\local\\programs\\python\\python312\\lib\\site-packages (from keras>=3.2.0->tensorflow-intel==2.17.0->tensorflow) (0.0.8)\n",
      "Requirement already satisfied: optree in c:\\users\\zedan net\\appdata\\local\\programs\\python\\python312\\lib\\site-packages (from keras>=3.2.0->tensorflow-intel==2.17.0->tensorflow) (0.12.1)\n",
      "Requirement already satisfied: charset-normalizer<4,>=2 in c:\\users\\zedan net\\appdata\\local\\programs\\python\\python312\\lib\\site-packages (from requests<3,>=2.21.0->tensorflow-intel==2.17.0->tensorflow) (3.3.2)\n",
      "Requirement already satisfied: idna<4,>=2.5 in c:\\users\\zedan net\\appdata\\local\\programs\\python\\python312\\lib\\site-packages (from requests<3,>=2.21.0->tensorflow-intel==2.17.0->tensorflow) (3.6)\n",
      "Requirement already satisfied: urllib3<3,>=1.21.1 in c:\\users\\zedan net\\appdata\\local\\programs\\python\\python312\\lib\\site-packages (from requests<3,>=2.21.0->tensorflow-intel==2.17.0->tensorflow) (2.2.1)\n",
      "Requirement already satisfied: certifi>=2017.4.17 in c:\\users\\zedan net\\appdata\\local\\programs\\python\\python312\\lib\\site-packages (from requests<3,>=2.21.0->tensorflow-intel==2.17.0->tensorflow) (2024.2.2)\n",
      "Requirement already satisfied: markdown>=2.6.8 in c:\\users\\zedan net\\appdata\\local\\programs\\python\\python312\\lib\\site-packages (from tensorboard<2.18,>=2.17->tensorflow-intel==2.17.0->tensorflow) (3.7)\n",
      "Requirement already satisfied: tensorboard-data-server<0.8.0,>=0.7.0 in c:\\users\\zedan net\\appdata\\local\\programs\\python\\python312\\lib\\site-packages (from tensorboard<2.18,>=2.17->tensorflow-intel==2.17.0->tensorflow) (0.7.2)\n",
      "Requirement already satisfied: werkzeug>=1.0.1 in c:\\users\\zedan net\\appdata\\local\\programs\\python\\python312\\lib\\site-packages (from tensorboard<2.18,>=2.17->tensorflow-intel==2.17.0->tensorflow) (3.0.3)\n",
      "Requirement already satisfied: MarkupSafe>=2.1.1 in c:\\users\\zedan net\\appdata\\local\\programs\\python\\python312\\lib\\site-packages (from werkzeug>=1.0.1->tensorboard<2.18,>=2.17->tensorflow-intel==2.17.0->tensorflow) (2.1.3)\n",
      "Requirement already satisfied: markdown-it-py>=2.2.0 in c:\\users\\zedan net\\appdata\\local\\programs\\python\\python312\\lib\\site-packages (from rich->keras>=3.2.0->tensorflow-intel==2.17.0->tensorflow) (3.0.0)\n",
      "Requirement already satisfied: pygments<3.0.0,>=2.13.0 in c:\\users\\zedan net\\appdata\\roaming\\python\\python312\\site-packages (from rich->keras>=3.2.0->tensorflow-intel==2.17.0->tensorflow) (2.17.2)\n",
      "Requirement already satisfied: mdurl~=0.1 in c:\\users\\zedan net\\appdata\\local\\programs\\python\\python312\\lib\\site-packages (from markdown-it-py>=2.2.0->rich->keras>=3.2.0->tensorflow-intel==2.17.0->tensorflow) (0.1.2)\n"
     ]
    },
    {
     "name": "stderr",
     "output_type": "stream",
     "text": [
      "\n",
      "[notice] A new release of pip is available: 23.2.1 -> 24.2\n",
      "[notice] To update, run: python.exe -m pip install --upgrade pip\n"
     ]
    }
   ],
   "source": [
    "! pip install --upgrade tensorflow\n",
    "! pip install numpy pillow scikit-learn\n"
   ]
  },
  {
   "cell_type": "code",
   "execution_count": 2,
   "metadata": {},
   "outputs": [
    {
     "name": "stdout",
     "output_type": "stream",
     "text": [
      "2.17.0\n"
     ]
    }
   ],
   "source": [
    "print(tf.__version__)\n"
   ]
  },
  {
   "cell_type": "code",
   "execution_count": 3,
   "metadata": {},
   "outputs": [
    {
     "name": "stderr",
     "output_type": "stream",
     "text": [
      "ERROR: Could not find a version that satisfies the requirement tensorflow==2.10.0 (from versions: 2.16.0rc0, 2.16.1, 2.16.2, 2.17.0rc0, 2.17.0rc1, 2.17.0)\n",
      "ERROR: No matching distribution found for tensorflow==2.10.0\n",
      "\n",
      "[notice] A new release of pip is available: 23.2.1 -> 24.2\n",
      "[notice] To update, run: python.exe -m pip install --upgrade pip\n"
     ]
    },
    {
     "name": "stdout",
     "output_type": "stream",
     "text": [
      "Collecting keras==2.10.0\n",
      "  Obtaining dependency information for keras==2.10.0 from https://files.pythonhosted.org/packages/f9/4d/dc255a437c9616b155e5bd55e325e092b7cdcb4652361d733ae051d40853/keras-2.10.0-py2.py3-none-any.whl.metadata\n",
      "  Downloading keras-2.10.0-py2.py3-none-any.whl.metadata (1.3 kB)\n",
      "Downloading keras-2.10.0-py2.py3-none-any.whl (1.7 MB)\n",
      "   ---------------------------------------- 0.0/1.7 MB ? eta -:--:--\n",
      "   ---------------------------------------- 0.0/1.7 MB ? eta -:--:--\n",
      "    --------------------------------------- 0.0/1.7 MB 187.9 kB/s eta 0:00:09\n",
      "    --------------------------------------- 0.0/1.7 MB 178.6 kB/s eta 0:00:10\n",
      "   - -------------------------------------- 0.1/1.7 MB 262.6 kB/s eta 0:00:07\n",
      "   -- ------------------------------------- 0.1/1.7 MB 379.3 kB/s eta 0:00:05\n",
      "   ---- ----------------------------------- 0.2/1.7 MB 541.9 kB/s eta 0:00:03\n",
      "   ------ --------------------------------- 0.3/1.7 MB 630.2 kB/s eta 0:00:03\n",
      "   ------- -------------------------------- 0.3/1.7 MB 678.1 kB/s eta 0:00:03\n",
      "   -------- ------------------------------- 0.4/1.7 MB 716.8 kB/s eta 0:00:02\n",
      "   --------- ------------------------------ 0.4/1.7 MB 771.4 kB/s eta 0:00:02\n",
      "   ------------- -------------------------- 0.6/1.7 MB 891.2 kB/s eta 0:00:02\n",
      "   ------------------ --------------------- 0.8/1.7 MB 1.1 MB/s eta 0:00:01\n",
      "   ----------------------- ---------------- 1.0/1.7 MB 1.3 MB/s eta 0:00:01\n",
      "   -------------------------- ------------- 1.1/1.7 MB 1.4 MB/s eta 0:00:01\n",
      "   -------------------------- ------------- 1.1/1.7 MB 1.4 MB/s eta 0:00:01\n",
      "   --------------------------- ------------ 1.2/1.7 MB 1.3 MB/s eta 0:00:01\n",
      "   ---------------------------------- ----- 1.4/1.7 MB 1.5 MB/s eta 0:00:01\n",
      "   ------------------------------------- -- 1.6/1.7 MB 1.7 MB/s eta 0:00:01\n",
      "   ---------------------------------------- 1.7/1.7 MB 1.6 MB/s eta 0:00:00\n",
      "Installing collected packages: keras\n",
      "  Attempting uninstall: keras\n",
      "    Found existing installation: keras 3.5.0\n",
      "    Uninstalling keras-3.5.0:\n",
      "      Successfully uninstalled keras-3.5.0\n",
      "Successfully installed keras-2.10.0\n"
     ]
    },
    {
     "name": "stderr",
     "output_type": "stream",
     "text": [
      "ERROR: pip's dependency resolver does not currently take into account all the packages that are installed. This behaviour is the source of the following dependency conflicts.\n",
      "tensorflow-intel 2.17.0 requires keras>=3.2.0, but you have keras 2.10.0 which is incompatible.\n",
      "\n",
      "[notice] A new release of pip is available: 23.2.1 -> 24.2\n",
      "[notice] To update, run: python.exe -m pip install --upgrade pip\n"
     ]
    }
   ],
   "source": [
    "! pip install tensorflow==2.10.0\n",
    "! pip install keras==2.10.0\n"
   ]
  },
  {
   "cell_type": "code",
   "execution_count": 17,
   "metadata": {},
   "outputs": [
    {
     "name": "stdout",
     "output_type": "stream",
     "text": [
      "Requirement already satisfied: tifffile in c:\\users\\zedan net\\appdata\\local\\programs\\python\\python312\\lib\\site-packages (2024.8.30)\n",
      "Requirement already satisfied: numpy in c:\\users\\zedan net\\appdata\\local\\programs\\python\\python312\\lib\\site-packages (from tifffile) (1.26.1)\n"
     ]
    },
    {
     "name": "stderr",
     "output_type": "stream",
     "text": [
      "\n",
      "[notice] A new release of pip is available: 23.2.1 -> 24.2\n",
      "[notice] To update, run: python.exe -m pip install --upgrade pip\n"
     ]
    }
   ],
   "source": [
    "! pip install tifffile"
   ]
  },
  {
   "cell_type": "code",
   "execution_count": 2,
   "metadata": {},
   "outputs": [
    {
     "name": "stderr",
     "output_type": "stream",
     "text": [
      "ERROR: Invalid requirement: '#'\n",
      "\n",
      "[notice] A new release of pip is available: 23.2.1 -> 24.2\n",
      "[notice] To update, run: python.exe -m pip install --upgrade pip\n"
     ]
    }
   ],
   "source": [
    "import tifffile as tiff\n",
    "! pip install keras==2.10.0       # Or the latest compatible version\n"
   ]
  },
  {
   "cell_type": "code",
   "execution_count": 2,
   "metadata": {},
   "outputs": [
    {
     "name": "stderr",
     "output_type": "stream",
     "text": [
      "ERROR: Invalid requirement: '#'\n",
      "\n",
      "[notice] A new release of pip is available: 23.2.1 -> 24.2\n",
      "[notice] To update, run: python.exe -m pip install --upgrade pip\n",
      "ERROR: Invalid requirement: '#'\n",
      "\n",
      "[notice] A new release of pip is available: 23.2.1 -> 24.2\n",
      "[notice] To update, run: python.exe -m pip install --upgrade pip\n"
     ]
    },
    {
     "name": "stdout",
     "output_type": "stream",
     "text": [
      "Requirement already satisfied: segmentation-models in c:\\users\\zedan net\\appdata\\local\\programs\\python\\python312\\lib\\site-packages (0.2.1)\n",
      "Collecting segmentation-models\n",
      "  Obtaining dependency information for segmentation-models from https://files.pythonhosted.org/packages/da/b9/4a183518c21689a56b834eaaa45cad242d9ec09a4360b5b10139f23c63f4/segmentation_models-1.0.1-py3-none-any.whl.metadata\n",
      "  Using cached segmentation_models-1.0.1-py3-none-any.whl.metadata (938 bytes)\n",
      "Requirement already satisfied: keras-applications<=1.0.8,>=1.0.7 in c:\\users\\zedan net\\appdata\\local\\programs\\python\\python312\\lib\\site-packages (from segmentation-models) (1.0.8)\n",
      "Collecting image-classifiers==1.0.0 (from segmentation-models)\n",
      "  Obtaining dependency information for image-classifiers==1.0.0 from https://files.pythonhosted.org/packages/81/98/6f84720e299a4942ab80df5f76ab97b7828b24d1de5e9b2cbbe6073228b7/image_classifiers-1.0.0-py3-none-any.whl.metadata\n",
      "  Using cached image_classifiers-1.0.0-py3-none-any.whl.metadata (8.6 kB)\n",
      "Collecting efficientnet==1.0.0 (from segmentation-models)\n",
      "  Obtaining dependency information for efficientnet==1.0.0 from https://files.pythonhosted.org/packages/97/82/f3ae07316f0461417dc54affab6e86ab188a5a22f33176d35271628b96e0/efficientnet-1.0.0-py3-none-any.whl.metadata\n",
      "  Using cached efficientnet-1.0.0-py3-none-any.whl.metadata (6.1 kB)\n",
      "Requirement already satisfied: scikit-image in c:\\users\\zedan net\\appdata\\local\\programs\\python\\python312\\lib\\site-packages (from efficientnet==1.0.0->segmentation-models) (0.24.0)\n",
      "Requirement already satisfied: numpy>=1.9.1 in c:\\users\\zedan net\\appdata\\local\\programs\\python\\python312\\lib\\site-packages (from keras-applications<=1.0.8,>=1.0.7->segmentation-models) (1.26.1)\n",
      "Requirement already satisfied: h5py in c:\\users\\zedan net\\appdata\\local\\programs\\python\\python312\\lib\\site-packages (from keras-applications<=1.0.8,>=1.0.7->segmentation-models) (3.11.0)\n",
      "Requirement already satisfied: scipy>=1.9 in c:\\users\\zedan net\\appdata\\local\\programs\\python\\python312\\lib\\site-packages (from scikit-image->efficientnet==1.0.0->segmentation-models) (1.11.3)\n",
      "Requirement already satisfied: networkx>=2.8 in c:\\users\\zedan net\\appdata\\local\\programs\\python\\python312\\lib\\site-packages (from scikit-image->efficientnet==1.0.0->segmentation-models) (3.2.1)\n",
      "Requirement already satisfied: pillow>=9.1 in c:\\users\\zedan net\\appdata\\local\\programs\\python\\python312\\lib\\site-packages (from scikit-image->efficientnet==1.0.0->segmentation-models) (10.1.0)\n",
      "Requirement already satisfied: imageio>=2.33 in c:\\users\\zedan net\\appdata\\local\\programs\\python\\python312\\lib\\site-packages (from scikit-image->efficientnet==1.0.0->segmentation-models) (2.34.0)\n",
      "Requirement already satisfied: tifffile>=2022.8.12 in c:\\users\\zedan net\\appdata\\local\\programs\\python\\python312\\lib\\site-packages (from scikit-image->efficientnet==1.0.0->segmentation-models) (2024.8.30)\n",
      "Requirement already satisfied: packaging>=21 in c:\\users\\zedan net\\appdata\\roaming\\python\\python312\\site-packages (from scikit-image->efficientnet==1.0.0->segmentation-models) (23.2)\n",
      "Requirement already satisfied: lazy-loader>=0.4 in c:\\users\\zedan net\\appdata\\local\\programs\\python\\python312\\lib\\site-packages (from scikit-image->efficientnet==1.0.0->segmentation-models) (0.4)\n",
      "Using cached segmentation_models-1.0.1-py3-none-any.whl (33 kB)\n",
      "Using cached efficientnet-1.0.0-py3-none-any.whl (17 kB)\n",
      "Using cached image_classifiers-1.0.0-py3-none-any.whl (19 kB)\n",
      "Installing collected packages: image-classifiers, efficientnet, segmentation-models\n",
      "  Attempting uninstall: image-classifiers\n",
      "    Found existing installation: image-classifiers 0.2.0\n",
      "    Uninstalling image-classifiers-0.2.0:\n",
      "      Successfully uninstalled image-classifiers-0.2.0\n",
      "  Attempting uninstall: efficientnet\n",
      "    Found existing installation: efficientnet 1.1.1\n",
      "    Uninstalling efficientnet-1.1.1:\n",
      "      Successfully uninstalled efficientnet-1.1.1\n",
      "  Attempting uninstall: segmentation-models\n",
      "    Found existing installation: segmentation-models 0.2.1\n",
      "    Uninstalling segmentation-models-0.2.1:\n",
      "      Successfully uninstalled segmentation-models-0.2.1\n",
      "Successfully installed efficientnet-1.0.0 image-classifiers-1.0.0 segmentation-models-1.0.1\n"
     ]
    },
    {
     "name": "stderr",
     "output_type": "stream",
     "text": [
      "\n",
      "[notice] A new release of pip is available: 23.2.1 -> 24.2\n",
      "[notice] To update, run: python.exe -m pip install --upgrade pip\n"
     ]
    },
    {
     "name": "stdout",
     "output_type": "stream",
     "text": [
      "Collecting git+https://github.com/qubvel/segmentation_models\n",
      "  Cloning https://github.com/qubvel/segmentation_models to c:\\users\\zedan net\\appdata\\local\\temp\\pip-req-build-6huhxur9\n",
      "  Resolved https://github.com/qubvel/segmentation_models to commit 5d24bbfb28af6134e25e2c0b79e7727f6c0491d0\n",
      "  Preparing metadata (setup.py): started\n",
      "  Preparing metadata (setup.py): finished with status 'done'\n",
      "Requirement already satisfied: keras_applications<=1.0.8,>=1.0.7 in c:\\users\\zedan net\\appdata\\local\\programs\\python\\python312\\lib\\site-packages (from segmentation_models==1.0.1) (1.0.8)\n",
      "Requirement already satisfied: image-classifiers==1.0.0 in c:\\users\\zedan net\\appdata\\local\\programs\\python\\python312\\lib\\site-packages (from segmentation_models==1.0.1) (1.0.0)\n",
      "Collecting efficientnet==1.1.1 (from segmentation_models==1.0.1)\n",
      "  Obtaining dependency information for efficientnet==1.1.1 from https://files.pythonhosted.org/packages/53/97/84f88e581d6ac86dcf1ab347c497c4c568c38784e3a2bd659b96912ab793/efficientnet-1.1.1-py3-none-any.whl.metadata\n",
      "  Using cached efficientnet-1.1.1-py3-none-any.whl.metadata (6.4 kB)\n",
      "Requirement already satisfied: scikit-image in c:\\users\\zedan net\\appdata\\local\\programs\\python\\python312\\lib\\site-packages (from efficientnet==1.1.1->segmentation_models==1.0.1) (0.24.0)\n",
      "Requirement already satisfied: numpy>=1.9.1 in c:\\users\\zedan net\\appdata\\local\\programs\\python\\python312\\lib\\site-packages (from keras_applications<=1.0.8,>=1.0.7->segmentation_models==1.0.1) (1.26.1)\n",
      "Requirement already satisfied: h5py in c:\\users\\zedan net\\appdata\\local\\programs\\python\\python312\\lib\\site-packages (from keras_applications<=1.0.8,>=1.0.7->segmentation_models==1.0.1) (3.11.0)\n",
      "Requirement already satisfied: scipy>=1.9 in c:\\users\\zedan net\\appdata\\local\\programs\\python\\python312\\lib\\site-packages (from scikit-image->efficientnet==1.1.1->segmentation_models==1.0.1) (1.11.3)\n",
      "Requirement already satisfied: networkx>=2.8 in c:\\users\\zedan net\\appdata\\local\\programs\\python\\python312\\lib\\site-packages (from scikit-image->efficientnet==1.1.1->segmentation_models==1.0.1) (3.2.1)\n",
      "Requirement already satisfied: pillow>=9.1 in c:\\users\\zedan net\\appdata\\local\\programs\\python\\python312\\lib\\site-packages (from scikit-image->efficientnet==1.1.1->segmentation_models==1.0.1) (10.1.0)\n",
      "Requirement already satisfied: imageio>=2.33 in c:\\users\\zedan net\\appdata\\local\\programs\\python\\python312\\lib\\site-packages (from scikit-image->efficientnet==1.1.1->segmentation_models==1.0.1) (2.34.0)\n",
      "Requirement already satisfied: tifffile>=2022.8.12 in c:\\users\\zedan net\\appdata\\local\\programs\\python\\python312\\lib\\site-packages (from scikit-image->efficientnet==1.1.1->segmentation_models==1.0.1) (2024.8.30)\n",
      "Requirement already satisfied: packaging>=21 in c:\\users\\zedan net\\appdata\\roaming\\python\\python312\\site-packages (from scikit-image->efficientnet==1.1.1->segmentation_models==1.0.1) (23.2)\n",
      "Requirement already satisfied: lazy-loader>=0.4 in c:\\users\\zedan net\\appdata\\local\\programs\\python\\python312\\lib\\site-packages (from scikit-image->efficientnet==1.1.1->segmentation_models==1.0.1) (0.4)\n",
      "Using cached efficientnet-1.1.1-py3-none-any.whl (18 kB)\n",
      "Installing collected packages: efficientnet\n",
      "  Attempting uninstall: efficientnet\n",
      "    Found existing installation: efficientnet 1.0.0\n",
      "    Uninstalling efficientnet-1.0.0:\n",
      "      Successfully uninstalled efficientnet-1.0.0\n",
      "Successfully installed efficientnet-1.1.1\n"
     ]
    },
    {
     "name": "stderr",
     "output_type": "stream",
     "text": [
      "  Running command git clone --filter=blob:none --quiet https://github.com/qubvel/segmentation_models 'C:\\Users\\Zedan Net\\AppData\\Local\\Temp\\pip-req-build-6huhxur9'\n",
      "  Running command git submodule update --init --recursive -q\n",
      "ERROR: pip's dependency resolver does not currently take into account all the packages that are installed. This behaviour is the source of the following dependency conflicts.\n",
      "segmentation-models 1.0.1 requires efficientnet==1.0.0, but you have efficientnet 1.1.1 which is incompatible.\n",
      "\n",
      "[notice] A new release of pip is available: 23.2.1 -> 24.2\n",
      "[notice] To update, run: python.exe -m pip install --upgrade pip\n"
     ]
    }
   ],
   "source": [
    "! pip install tensorflow==2.10.0  # Or the latest compatible version\n",
    "! pip install keras==2.10.0       # Or the latest compatible version\n",
    "! pip install --upgrade segmentation-models\n",
    "! pip install git+https://github.com/qubvel/segmentation_models\n"
   ]
  },
  {
   "cell_type": "code",
   "execution_count": 7,
   "metadata": {},
   "outputs": [
    {
     "name": "stdout",
     "output_type": "stream",
     "text": [
      "Collecting segmentation-models==0.2.1\n",
      "  Obtaining dependency information for segmentation-models==0.2.1 from https://files.pythonhosted.org/packages/10/bf/253c8834014a834cacf2384c72872167fb30ccae7a56c6ce46285b03245c/segmentation_models-0.2.1-py2.py3-none-any.whl.metadata\n",
      "  Using cached segmentation_models-0.2.1-py2.py3-none-any.whl.metadata (841 bytes)\n",
      "Requirement already satisfied: keras>=2.2.0 in c:\\users\\zedan net\\appdata\\local\\programs\\python\\python312\\lib\\site-packages (from segmentation-models==0.2.1) (2.10.0)\n",
      "Requirement already satisfied: keras-applications>=1.0.7 in c:\\users\\zedan net\\appdata\\local\\programs\\python\\python312\\lib\\site-packages (from segmentation-models==0.2.1) (1.0.8)\n",
      "Requirement already satisfied: scikit-image in c:\\users\\zedan net\\appdata\\local\\programs\\python\\python312\\lib\\site-packages (from segmentation-models==0.2.1) (0.24.0)\n",
      "Collecting image-classifiers==0.2.0 (from segmentation-models==0.2.1)\n",
      "  Obtaining dependency information for image-classifiers==0.2.0 from https://files.pythonhosted.org/packages/de/32/a1e74e03f74506d1e4b46bb2732ca5a7b18ac52a36b5e3547e63537ce74c/image_classifiers-0.2.0-py2.py3-none-any.whl.metadata\n",
      "  Using cached image_classifiers-0.2.0-py2.py3-none-any.whl.metadata (8.3 kB)\n",
      "Requirement already satisfied: numpy>=1.9.1 in c:\\users\\zedan net\\appdata\\local\\programs\\python\\python312\\lib\\site-packages (from keras-applications>=1.0.7->segmentation-models==0.2.1) (1.26.1)\n",
      "Requirement already satisfied: h5py in c:\\users\\zedan net\\appdata\\local\\programs\\python\\python312\\lib\\site-packages (from keras-applications>=1.0.7->segmentation-models==0.2.1) (3.11.0)\n",
      "Requirement already satisfied: scipy>=1.9 in c:\\users\\zedan net\\appdata\\local\\programs\\python\\python312\\lib\\site-packages (from scikit-image->segmentation-models==0.2.1) (1.11.3)\n",
      "Requirement already satisfied: networkx>=2.8 in c:\\users\\zedan net\\appdata\\local\\programs\\python\\python312\\lib\\site-packages (from scikit-image->segmentation-models==0.2.1) (3.2.1)\n",
      "Requirement already satisfied: pillow>=9.1 in c:\\users\\zedan net\\appdata\\local\\programs\\python\\python312\\lib\\site-packages (from scikit-image->segmentation-models==0.2.1) (10.1.0)\n",
      "Requirement already satisfied: imageio>=2.33 in c:\\users\\zedan net\\appdata\\local\\programs\\python\\python312\\lib\\site-packages (from scikit-image->segmentation-models==0.2.1) (2.34.0)\n",
      "Requirement already satisfied: tifffile>=2022.8.12 in c:\\users\\zedan net\\appdata\\local\\programs\\python\\python312\\lib\\site-packages (from scikit-image->segmentation-models==0.2.1) (2024.8.30)\n",
      "Requirement already satisfied: packaging>=21 in c:\\users\\zedan net\\appdata\\roaming\\python\\python312\\site-packages (from scikit-image->segmentation-models==0.2.1) (23.2)\n",
      "Requirement already satisfied: lazy-loader>=0.4 in c:\\users\\zedan net\\appdata\\local\\programs\\python\\python312\\lib\\site-packages (from scikit-image->segmentation-models==0.2.1) (0.4)\n",
      "Using cached segmentation_models-0.2.1-py2.py3-none-any.whl (44 kB)\n",
      "Using cached image_classifiers-0.2.0-py2.py3-none-any.whl (76 kB)\n",
      "Installing collected packages: image-classifiers, segmentation-models\n",
      "  Attempting uninstall: image-classifiers\n",
      "    Found existing installation: image-classifiers 1.0.0\n",
      "    Uninstalling image-classifiers-1.0.0:\n",
      "      Successfully uninstalled image-classifiers-1.0.0\n",
      "  Attempting uninstall: segmentation-models\n",
      "    Found existing installation: segmentation-models 1.0.1\n",
      "    Uninstalling segmentation-models-1.0.1:\n",
      "      Successfully uninstalled segmentation-models-1.0.1\n",
      "Successfully installed image-classifiers-0.2.0 segmentation-models-0.2.1\n"
     ]
    },
    {
     "name": "stderr",
     "output_type": "stream",
     "text": [
      "\n",
      "[notice] A new release of pip is available: 23.2.1 -> 24.2\n",
      "[notice] To update, run: python.exe -m pip install --upgrade pip\n"
     ]
    },
    {
     "name": "stdout",
     "output_type": "stream",
     "text": [
      "Requirement already satisfied: tensorflow in c:\\users\\zedan net\\appdata\\local\\programs\\python\\python312\\lib\\site-packages (2.17.0)\n",
      "Requirement already satisfied: tensorflow-intel==2.17.0 in c:\\users\\zedan net\\appdata\\local\\programs\\python\\python312\\lib\\site-packages (from tensorflow) (2.17.0)\n",
      "Requirement already satisfied: absl-py>=1.0.0 in c:\\users\\zedan net\\appdata\\local\\programs\\python\\python312\\lib\\site-packages (from tensorflow-intel==2.17.0->tensorflow) (2.1.0)\n",
      "Requirement already satisfied: astunparse>=1.6.0 in c:\\users\\zedan net\\appdata\\local\\programs\\python\\python312\\lib\\site-packages (from tensorflow-intel==2.17.0->tensorflow) (1.6.3)\n",
      "Requirement already satisfied: flatbuffers>=24.3.25 in c:\\users\\zedan net\\appdata\\local\\programs\\python\\python312\\lib\\site-packages (from tensorflow-intel==2.17.0->tensorflow) (24.3.25)\n",
      "Requirement already satisfied: gast!=0.5.0,!=0.5.1,!=0.5.2,>=0.2.1 in c:\\users\\zedan net\\appdata\\local\\programs\\python\\python312\\lib\\site-packages (from tensorflow-intel==2.17.0->tensorflow) (0.6.0)\n",
      "Requirement already satisfied: google-pasta>=0.1.1 in c:\\users\\zedan net\\appdata\\local\\programs\\python\\python312\\lib\\site-packages (from tensorflow-intel==2.17.0->tensorflow) (0.2.0)\n",
      "Requirement already satisfied: h5py>=3.10.0 in c:\\users\\zedan net\\appdata\\local\\programs\\python\\python312\\lib\\site-packages (from tensorflow-intel==2.17.0->tensorflow) (3.11.0)\n",
      "Requirement already satisfied: libclang>=13.0.0 in c:\\users\\zedan net\\appdata\\local\\programs\\python\\python312\\lib\\site-packages (from tensorflow-intel==2.17.0->tensorflow) (18.1.1)\n",
      "Requirement already satisfied: ml-dtypes<0.5.0,>=0.3.1 in c:\\users\\zedan net\\appdata\\local\\programs\\python\\python312\\lib\\site-packages (from tensorflow-intel==2.17.0->tensorflow) (0.4.0)\n",
      "Requirement already satisfied: opt-einsum>=2.3.2 in c:\\users\\zedan net\\appdata\\local\\programs\\python\\python312\\lib\\site-packages (from tensorflow-intel==2.17.0->tensorflow) (3.3.0)\n",
      "Requirement already satisfied: packaging in c:\\users\\zedan net\\appdata\\roaming\\python\\python312\\site-packages (from tensorflow-intel==2.17.0->tensorflow) (23.2)\n",
      "Requirement already satisfied: protobuf!=4.21.0,!=4.21.1,!=4.21.2,!=4.21.3,!=4.21.4,!=4.21.5,<5.0.0dev,>=3.20.3 in c:\\users\\zedan net\\appdata\\local\\programs\\python\\python312\\lib\\site-packages (from tensorflow-intel==2.17.0->tensorflow) (4.25.4)\n",
      "Requirement already satisfied: requests<3,>=2.21.0 in c:\\users\\zedan net\\appdata\\local\\programs\\python\\python312\\lib\\site-packages (from tensorflow-intel==2.17.0->tensorflow) (2.31.0)\n",
      "Requirement already satisfied: setuptools in c:\\users\\zedan net\\appdata\\local\\programs\\python\\python312\\lib\\site-packages (from tensorflow-intel==2.17.0->tensorflow) (72.2.0)\n",
      "Requirement already satisfied: six>=1.12.0 in c:\\users\\zedan net\\appdata\\local\\programs\\python\\python312\\lib\\site-packages (from tensorflow-intel==2.17.0->tensorflow) (1.16.0)\n",
      "Requirement already satisfied: termcolor>=1.1.0 in c:\\users\\zedan net\\appdata\\local\\programs\\python\\python312\\lib\\site-packages (from tensorflow-intel==2.17.0->tensorflow) (2.4.0)\n",
      "Requirement already satisfied: typing-extensions>=3.6.6 in c:\\users\\zedan net\\appdata\\local\\programs\\python\\python312\\lib\\site-packages (from tensorflow-intel==2.17.0->tensorflow) (4.10.0)\n",
      "Requirement already satisfied: wrapt>=1.11.0 in c:\\users\\zedan net\\appdata\\local\\programs\\python\\python312\\lib\\site-packages (from tensorflow-intel==2.17.0->tensorflow) (1.16.0)\n",
      "Requirement already satisfied: grpcio<2.0,>=1.24.3 in c:\\users\\zedan net\\appdata\\local\\programs\\python\\python312\\lib\\site-packages (from tensorflow-intel==2.17.0->tensorflow) (1.65.5)\n",
      "Requirement already satisfied: tensorboard<2.18,>=2.17 in c:\\users\\zedan net\\appdata\\local\\programs\\python\\python312\\lib\\site-packages (from tensorflow-intel==2.17.0->tensorflow) (2.17.1)\n",
      "Collecting keras>=3.2.0 (from tensorflow-intel==2.17.0->tensorflow)\n",
      "  Obtaining dependency information for keras>=3.2.0 from https://files.pythonhosted.org/packages/a3/a4/101f0f3c0b057ce150af0e8493ab7fc10b98b066b7bd81ab01e96038a268/keras-3.5.0-py3-none-any.whl.metadata\n",
      "  Using cached keras-3.5.0-py3-none-any.whl.metadata (5.8 kB)\n",
      "Requirement already satisfied: numpy<2.0.0,>=1.26.0 in c:\\users\\zedan net\\appdata\\local\\programs\\python\\python312\\lib\\site-packages (from tensorflow-intel==2.17.0->tensorflow) (1.26.1)\n",
      "Requirement already satisfied: wheel<1.0,>=0.23.0 in c:\\users\\zedan net\\appdata\\local\\programs\\python\\python312\\lib\\site-packages (from astunparse>=1.6.0->tensorflow-intel==2.17.0->tensorflow) (0.44.0)\n",
      "Requirement already satisfied: rich in c:\\users\\zedan net\\appdata\\local\\programs\\python\\python312\\lib\\site-packages (from keras>=3.2.0->tensorflow-intel==2.17.0->tensorflow) (13.7.1)\n",
      "Requirement already satisfied: namex in c:\\users\\zedan net\\appdata\\local\\programs\\python\\python312\\lib\\site-packages (from keras>=3.2.0->tensorflow-intel==2.17.0->tensorflow) (0.0.8)\n",
      "Requirement already satisfied: optree in c:\\users\\zedan net\\appdata\\local\\programs\\python\\python312\\lib\\site-packages (from keras>=3.2.0->tensorflow-intel==2.17.0->tensorflow) (0.12.1)\n",
      "Requirement already satisfied: charset-normalizer<4,>=2 in c:\\users\\zedan net\\appdata\\local\\programs\\python\\python312\\lib\\site-packages (from requests<3,>=2.21.0->tensorflow-intel==2.17.0->tensorflow) (3.3.2)\n",
      "Requirement already satisfied: idna<4,>=2.5 in c:\\users\\zedan net\\appdata\\local\\programs\\python\\python312\\lib\\site-packages (from requests<3,>=2.21.0->tensorflow-intel==2.17.0->tensorflow) (3.6)\n",
      "Requirement already satisfied: urllib3<3,>=1.21.1 in c:\\users\\zedan net\\appdata\\local\\programs\\python\\python312\\lib\\site-packages (from requests<3,>=2.21.0->tensorflow-intel==2.17.0->tensorflow) (2.2.1)\n",
      "Requirement already satisfied: certifi>=2017.4.17 in c:\\users\\zedan net\\appdata\\local\\programs\\python\\python312\\lib\\site-packages (from requests<3,>=2.21.0->tensorflow-intel==2.17.0->tensorflow) (2024.2.2)\n",
      "Requirement already satisfied: markdown>=2.6.8 in c:\\users\\zedan net\\appdata\\local\\programs\\python\\python312\\lib\\site-packages (from tensorboard<2.18,>=2.17->tensorflow-intel==2.17.0->tensorflow) (3.7)\n",
      "Requirement already satisfied: tensorboard-data-server<0.8.0,>=0.7.0 in c:\\users\\zedan net\\appdata\\local\\programs\\python\\python312\\lib\\site-packages (from tensorboard<2.18,>=2.17->tensorflow-intel==2.17.0->tensorflow) (0.7.2)\n",
      "Requirement already satisfied: werkzeug>=1.0.1 in c:\\users\\zedan net\\appdata\\local\\programs\\python\\python312\\lib\\site-packages (from tensorboard<2.18,>=2.17->tensorflow-intel==2.17.0->tensorflow) (3.0.3)\n",
      "Requirement already satisfied: MarkupSafe>=2.1.1 in c:\\users\\zedan net\\appdata\\local\\programs\\python\\python312\\lib\\site-packages (from werkzeug>=1.0.1->tensorboard<2.18,>=2.17->tensorflow-intel==2.17.0->tensorflow) (2.1.3)\n",
      "Requirement already satisfied: markdown-it-py>=2.2.0 in c:\\users\\zedan net\\appdata\\local\\programs\\python\\python312\\lib\\site-packages (from rich->keras>=3.2.0->tensorflow-intel==2.17.0->tensorflow) (3.0.0)\n",
      "Requirement already satisfied: pygments<3.0.0,>=2.13.0 in c:\\users\\zedan net\\appdata\\roaming\\python\\python312\\site-packages (from rich->keras>=3.2.0->tensorflow-intel==2.17.0->tensorflow) (2.17.2)\n",
      "Requirement already satisfied: mdurl~=0.1 in c:\\users\\zedan net\\appdata\\local\\programs\\python\\python312\\lib\\site-packages (from markdown-it-py>=2.2.0->rich->keras>=3.2.0->tensorflow-intel==2.17.0->tensorflow) (0.1.2)\n",
      "Using cached keras-3.5.0-py3-none-any.whl (1.1 MB)\n",
      "Installing collected packages: keras\n",
      "  Attempting uninstall: keras\n",
      "    Found existing installation: keras 2.10.0\n",
      "    Uninstalling keras-2.10.0:\n",
      "      Successfully uninstalled keras-2.10.0\n",
      "Successfully installed keras-3.5.0\n"
     ]
    },
    {
     "name": "stderr",
     "output_type": "stream",
     "text": [
      "\n",
      "[notice] A new release of pip is available: 23.2.1 -> 24.2\n",
      "[notice] To update, run: python.exe -m pip install --upgrade pip\n"
     ]
    }
   ],
   "source": [
    "! pip install -U segmentation-models==0.2.1\n",
    "! pip install --upgrade tensorflow\n"
   ]
  },
  {
   "cell_type": "markdown",
   "metadata": {},
   "source": [
    "----\n"
   ]
  },
  {
   "cell_type": "code",
   "execution_count": 1,
   "metadata": {},
   "outputs": [
    {
     "name": "stdout",
     "output_type": "stream",
     "text": [
      "Segmentation Models: using `keras` framework.\n"
     ]
    }
   ],
   "source": [
    "import tifffile as tiff\n",
    "import numpy as np\n",
    "import tensorflow as tf\n",
    "import segmentation_models as sm\n",
    "import numpy as np\n",
    "from PIL import Image\n",
    "from sklearn.metrics import accuracy_score, jaccard_score, f1_score\n",
    "from flask import Flask, request, render_template, redirect, url_for, send_file\n",
    "import numpy as np\n",
    "from PIL import Image\n",
    "import tensorflow as tf\n",
    "import os\n",
    "import segmentation_models as sm"
   ]
  },
  {
   "cell_type": "markdown",
   "metadata": {},
   "source": [
    "---"
   ]
  },
  {
   "cell_type": "code",
   "execution_count": 13,
   "metadata": {},
   "outputs": [
    {
     "name": "stdout",
     "output_type": "stream",
     "text": [
      " * Serving Flask app '__main__'\n",
      " * Debug mode: on\n"
     ]
    },
    {
     "name": "stderr",
     "output_type": "stream",
     "text": [
      "WARNING: This is a development server. Do not use it in a production deployment. Use a production WSGI server instead.\n",
      " * Running on http://127.0.0.1:5000\n",
      "Press CTRL+C to quit\n",
      "127.0.0.1 - - [19/Sep/2024 22:41:16] \"GET / HTTP/1.1\" 200 -\n"
     ]
    },
    {
     "name": "stdout",
     "output_type": "stream",
     "text": [
      "\u001b[1m1/1\u001b[0m \u001b[32m━━━━━━━━━━━━━━━━━━━━\u001b[0m\u001b[37m\u001b[0m \u001b[1m3s\u001b[0m 3s/step\n"
     ]
    },
    {
     "name": "stderr",
     "output_type": "stream",
     "text": [
      "127.0.0.1 - - [19/Sep/2024 22:41:27] \"POST / HTTP/1.1\" 200 -\n"
     ]
    },
    {
     "name": "stdout",
     "output_type": "stream",
     "text": [
      "[[0 0 0 ... 0 0 0]\n",
      " [0 0 0 ... 0 0 0]\n",
      " [0 0 0 ... 0 0 0]\n",
      " ...\n",
      " [0 0 0 ... 0 0 0]\n",
      " [0 0 0 ... 0 0 0]\n",
      " [0 0 0 ... 0 0 0]]\n"
     ]
    }
   ],
   "source": [
    "sm.set_framework('tf.keras')  # Choose TensorFlow Keras as the backend\n",
    "\n",
    "# Define constants\n",
    "BACKBONE = 'resnet34'\n",
    "INPUT_SHAPE = (128, 128, 12)  # Adjust as needed\n",
    "CLASSES = 1  # Binary segmentation\n",
    "\n",
    "# Load the saved U-Net model\n",
    "model = tf.keras.models.load_model('unet_dice_model.h5', compile=False)\n",
    "# print(model)\n",
    "\n",
    "app = Flask(__name__)\n",
    "UPLOAD_FOLDER = 'static/uploads/'\n",
    "app.config['UPLOAD_FOLDER'] = UPLOAD_FOLDER\n",
    "\n",
    "def min_max_scaling(x):\n",
    "    return (x - np.min(x)) / (np.max(x) - np.min(x))\n",
    "\n",
    "def preprocess_image(image_path):\n",
    "    preprocess_input = sm.get_preprocessing(BACKBONE)\n",
    "\n",
    "    # Load and preprocess the image\n",
    "    img = tiff.imread(image_path)\n",
    "    img = preprocess_input(img)\n",
    "\n",
    "    img = tf.image.resize(img, (128, 128))  \n",
    "    img = min_max_scaling(img)                      \n",
    "    img = np.expand_dims(img, axis=0)      # Add batch dimension\n",
    "\n",
    "    return img\n",
    "\n",
    "# Postprocess segmentation map\n",
    "def postprocess_output(output):\n",
    "    output = np.squeeze(output, axis=0)               # Remove batch dimension\n",
    "    output = np.argmax(output, axis=-1)               # Get the most probable class per pixel\n",
    "    print(output)\n",
    "\n",
    "    output_img = Image.fromarray((output * 255).astype(np.uint8))  # Convert to an image\n",
    "    return output_img\n",
    "\n",
    "@app.route(\"/\", methods=[\"GET\", \"POST\"])\n",
    "def upload_and_predict():\n",
    "    if request.method == \"POST\":\n",
    "        if 'file' not in request.files:\n",
    "            return \"No file uploaded\", 400\n",
    "        file = request.files['file']\n",
    "\n",
    "        if file.filename == '':\n",
    "            return \"No file selected\", 400\n",
    "\n",
    "        file_path = os.path.join(app.config['UPLOAD_FOLDER'], file.filename)\n",
    "        file.save(file_path)\n",
    "\n",
    "        # Preprocess image\n",
    "        img = preprocess_image(file_path)\n",
    "\n",
    "        output = model.predict(img)\n",
    "        # print(\"Here 3\")\n",
    "        # print(output)\n",
    "\n",
    "        output_img = postprocess_output(output)\n",
    "\n",
    "        output_img_path = os.path.join(app.config['UPLOAD_FOLDER'], \"output.png\")\n",
    "        output_img.save(output_img_path)\n",
    "        # print(output_img)\n",
    "\n",
    "        return send_file(output_img_path, mimetype='image/png')\n",
    "\n",
    "    return '''\n",
    "    <!doctype html>\n",
    "    <title>Upload Image</title>\n",
    "    <h1>Upload an image to get segmentation</h1>\n",
    "    <form method=post enctype=multipart/form-data>\n",
    "      <input type=file name=file>\n",
    "      <input type=submit value=Upload>\n",
    "    </form>\n",
    "    '''\n",
    "\n",
    "\n",
    "if __name__ == \"__main__\":\n",
    "    app.run(debug=True ,use_reloader=False)\n"
   ]
  },
  {
   "cell_type": "code",
   "execution_count": 14,
   "metadata": {},
   "outputs": [
    {
     "name": "stdout",
     "output_type": "stream",
     "text": [
      "Accuracy: 1.0000\n"
     ]
    }
   ],
   "source": [
    "# Load images\n",
    "predicted = Image.open('static/uploads/output.png').convert('L')\n",
    "true = Image.open('data/labels/1.png').convert('L')\n",
    "\n",
    "# Convert images to numpy arrays\n",
    "predicted_array = np.array(predicted)\n",
    "true_array = np.array(true)\n",
    "\n",
    "# Ensure the arrays are binary (0 and 1)\n",
    "predicted_array = (predicted_array > 128).astype(int)  # Assuming a threshold of 128\n",
    "true_array = (true_array > 128).astype(int)  # Assuming a threshold of 128\n",
    "\n",
    "# Flatten arrays for metric calculations\n",
    "y_true = true_array.flatten()\n",
    "y_pred = predicted_array.flatten()\n",
    "\n",
    "# Calculate accuracy\n",
    "accuracy = accuracy_score(y_true, y_pred)\n",
    "\n",
    "\n",
    "\n",
    "print(f'Accuracy: {accuracy:.4f}')\n",
    "\n"
   ]
  }
 ],
 "metadata": {
  "kernelspec": {
   "display_name": "Python 3",
   "language": "python",
   "name": "python3"
  },
  "language_info": {
   "codemirror_mode": {
    "name": "ipython",
    "version": 3
   },
   "file_extension": ".py",
   "mimetype": "text/x-python",
   "name": "python",
   "nbconvert_exporter": "python",
   "pygments_lexer": "ipython3",
   "version": "3.12.0"
  }
 },
 "nbformat": 4,
 "nbformat_minor": 2
}
